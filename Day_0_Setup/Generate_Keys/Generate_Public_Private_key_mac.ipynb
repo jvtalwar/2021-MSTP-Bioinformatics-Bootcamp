{
 "cells": [
  {
   "cell_type": "markdown",
   "metadata": {},
   "source": [
    "###### Adapted from BIOM 262 (Dana Nachmanson, Patrick Fiaux)"
   ]
  },
  {
   "cell_type": "markdown",
   "metadata": {},
   "source": [
    "## This is for all students who will be using a mac in class. Please follow the instructions below before day 1 so I can get your account properly setup with TSCC"
   ]
  },
  {
   "cell_type": "markdown",
   "metadata": {},
   "source": [
    "#### 1) Open a terminal"
   ]
  },
  {
   "cell_type": "markdown",
   "metadata": {},
   "source": [
    "For mac users: Applications Folder - Utilities - Launch Terminal"
   ]
  },
  {
   "cell_type": "markdown",
   "metadata": {},
   "source": [
    "For Linux users: Applications - System tools - Terminal"
   ]
  },
  {
   "cell_type": "markdown",
   "metadata": {},
   "source": [
    "#### 2) Type the following command exactly as it appears below:"
   ]
  },
  {
   "cell_type": "markdown",
   "metadata": {},
   "source": [
    "! ssh-keygen -t rsa"
   ]
  },
  {
   "cell_type": "markdown",
   "metadata": {},
   "source": [
    "Press enter to continue"
   ]
  },
  {
   "cell_type": "markdown",
   "metadata": {},
   "source": [
    "Enter a passphrase (the cursor won't move), it will ask you to do this twice to make sure there aren't any typos. **REMEMBER this passphrase**, this is what you will use to logon to TSCC. Do not include the * character in the passphrase."
   ]
  },
  {
   "cell_type": "markdown",
   "metadata": {},
   "source": [
    "You will be prompted with a location to save the key. Press Enter to accept the default setting (it should look something like /Users/YOUR_ID/.ssh/id_rsa except the /Users/YOUR_ID/ part will be your default home directory.)"
   ]
  },
  {
   "cell_type": "markdown",
   "metadata": {},
   "source": [
    "#### 3) Use the following commands to copy your public key:"
   ]
  },
  {
   "cell_type": "markdown",
   "metadata": {},
   "source": [
    "cat ~/.ssh/id_rsa.pub"
   ]
  },
  {
   "cell_type": "markdown",
   "metadata": {},
   "source": [
    "Something like this should pop up on your screen:"
   ]
  },
  {
   "cell_type": "markdown",
   "metadata": {},
   "source": [
    "ssh-rsa AAAAB3NzaC1yc2EAAAADAQABAAABgQD08P2jbC/AGBCI0lR+kEHwi39gEtjuA8t7sENVCqZvT/Dc8xPEvl/fYPVwgQbmYaQlxO1+Gn7wwguoF6qjIvclgRw4nQaM5US41qaQxbzpE3dCN0bya1ZQe847vXuOKIXg+maTu2pAFTINoNu35QmM4d9MnD8GQIB88kOdWAWworf/S2wEcEaG0oZw/YRGKUw3E/q6bgg2rG6do7H3LWDbruQcsS0Jm+DDKXhiiV1Myy3+aSCI+JaI1SVZN+U78eH+vFAwZw3f6eL9pZVzneXC+Sn8uLFdQsla3V/0bokuNUoDuj8m4zFGAbPCixqTzF/QYy+SrG5wN98oxoGvRHtHf+DcKsAxSYaBsxOnUWO0WnjtpN+Lv5RWNANJ4WXIMKqL01TvUxoASWIMdA3h6l2cO16AM49Y3MQzve9RDZ4V1+u9Z1XclnUU2TJunoFswjKJY2Ri5h2XMZ6B4lGOh6UAf+Q/ObARhGFlHclI1XPdeUWelCo/vyrJC4K7zz7Fv/0= meghana@Meghanas-MacBook-Pro.local"
   ]
  },
  {
   "cell_type": "markdown",
   "metadata": {},
   "source": [
    "Highlight **everything** in your terminal window and copy it with command c."
   ]
  },
  {
   "cell_type": "markdown",
   "metadata": {},
   "source": [
    "#### 4) Paste what you have copied into the text of an email to James"
   ]
  },
  {
   "cell_type": "markdown",
   "metadata": {},
   "source": [
    "jtalwar@eng.ucsd.edu"
   ]
  },
  {
   "cell_type": "markdown",
   "metadata": {},
   "source": [
    "#### James will send you confirmation that he received your email. He will respond with your tscc username after setting up your account with TSCC."
   ]
  },
  {
   "cell_type": "markdown",
   "metadata": {},
   "source": [
    "#### 5) After receiving your tscc username - Log on to tscc! "
   ]
  },
  {
   "cell_type": "markdown",
   "metadata": {},
   "source": [
    "In your terminal window, type:"
   ]
  },
  {
   "cell_type": "markdown",
   "metadata": {},
   "source": [
    "ssh ucsd-train##@tscc-login.sdsc.edu"
   ]
  },
  {
   "cell_type": "markdown",
   "metadata": {},
   "source": [
    "Remember to replace the ## with your specific number. Press enter to get the prompt to enter your passphrase. You might get a security warning the first time you login. Just select \"Yes\" to move past it. Once you have logged on, there will be a bunch of text on your screen including \"Welcome to TSCC\""
   ]
  },
  {
   "cell_type": "markdown",
   "metadata": {},
   "source": [
    "To get out of TSCC, type \"exit\" and press enter."
   ]
  }
 ],
 "metadata": {
  "kernelspec": {
   "display_name": "Python 3",
   "language": "python",
   "name": "python3"
  },
  "language_info": {
   "codemirror_mode": {
    "name": "ipython",
    "version": 3
   },
   "file_extension": ".py",
   "mimetype": "text/x-python",
   "name": "python",
   "nbconvert_exporter": "python",
   "pygments_lexer": "ipython3",
   "version": "3.7.7"
  }
 },
 "nbformat": 4,
 "nbformat_minor": 2
}
