{
 "cells": [
  {
   "cell_type": "markdown",
   "metadata": {},
   "source": [
    "###### Adapted from BIOM 262 (Dana Nachmanson, Patrick Fiaux)"
   ]
  },
  {
   "cell_type": "markdown",
   "metadata": {},
   "source": [
    "### This is for all students who will be using a windows machine. Please follow the instructions below before day 1 so I can get your account properly setup with TSCC"
   ]
  },
  {
   "cell_type": "markdown",
   "metadata": {},
   "source": [
    "#### 1) Download Putty"
   ]
  },
  {
   "cell_type": "markdown",
   "metadata": {},
   "source": [
    "We will need to download putty to access TSCC."
   ]
  },
  {
   "cell_type": "markdown",
   "metadata": {},
   "source": [
    "Go here to find the most recent putty files:"
   ]
  },
  {
   "cell_type": "markdown",
   "metadata": {},
   "source": [
    "https://www.chiark.greenend.org.uk/~sgtatham/putty/latest.html"
   ]
  },
  {
   "cell_type": "markdown",
   "metadata": {},
   "source": [
    "Download the putty-0.75-installer.msi file"
   ]
  },
  {
   "cell_type": "markdown",
   "metadata": {},
   "source": [
    "By default this will go to your downlaods folder and the file is called putty-64bit-0.75-installer. Double click on it and follow the installation instructions."
   ]
  },
  {
   "cell_type": "markdown",
   "metadata": {},
   "source": [
    "#### 2) Generate a public-private key with PuTTY Keygen"
   ]
  },
  {
   "cell_type": "markdown",
   "metadata": {},
   "source": [
    "Start - All Programs - PuTTY - PuTTYgen. Generate an SSH key - The following link should be helpful in case the fsubsequent instructions below are unclear (particularly steps 1-5): https://docs.joyent.com/public-cloud/getting-started/ssh-keys/generating-an-ssh-key-manually/manually-generating-your-ssh-key-in-windows\n",
    " - Note: If you are using the link make sure you generate both public and private keys"
   ]
  },
  {
   "cell_type": "markdown",
   "metadata": {},
   "source": [
    "Copy and paste the entire contents of the \"Public key for pasting into OpenSSH authorized_keys file:\" into an email to James: jtalwar@eng.ucsd.edu\n"
   ]
  },
  {
   "cell_type": "markdown",
   "metadata": {},
   "source": [
    "Create a password for this key and enter it in the \"Key passphrase:\" field. Enter it a second time in \"Confirm passphrase:\" Remember this password, this is what you will use to login to TSCC."
   ]
  },
  {
   "cell_type": "markdown",
   "metadata": {},
   "source": [
    "Save the generated key - Save public key"
   ]
  },
  {
   "cell_type": "markdown",
   "metadata": {},
   "source": [
    "Move to a location that you will remember to save your keys (I recommend something like users - documents) and save your keys as \"public.pkk\" and \"private.pkk\" You will have to do this twice, once for the public and once for the private key. Put them in the same folder."
   ]
  },
  {
   "cell_type": "markdown",
   "metadata": {},
   "source": [
    "Once you have saved both the public and private key, confirm that they are in the location where you saved them and exit the PuTTY Key generator.\n",
    "\n",
    "**James will send you confirmation that he received your email. He will respond with your tscc username after setting up your account with TSCC.**"
   ]
  },
  {
   "cell_type": "markdown",
   "metadata": {},
   "source": [
    "#### 3) Log on to TSCC!"
   ]
  },
  {
   "cell_type": "markdown",
   "metadata": {},
   "source": [
    "James will respond to your email that you sent with the public key and give you a ucsd-train number for your login. Once you have received this, open PuTTY. "
   ]
  },
  {
   "cell_type": "markdown",
   "metadata": {},
   "source": [
    "In the \"HostName\" field enter ucsd-train##@tscc-login.sdsc.edu (remember to put your specific number in place of ##)."
   ]
  },
  {
   "cell_type": "markdown",
   "metadata": {},
   "source": [
    "In the \"Saved Sessions\" field, type tscc and click Save."
   ]
  },
  {
   "cell_type": "markdown",
   "metadata": {},
   "source": [
    "In the left hand panel, click through Connection - SSH - Auth"
   ]
  },
  {
   "cell_type": "markdown",
   "metadata": {},
   "source": [
    "In the \"Private key file for authentication:\" field, use the Browse button to find the private key file you have saved in step 2. You might have to change the file type to \"all files\" in the bottom right corner to see the files you have saved. Click on \"private.pkk\" and select Open."
   ]
  },
  {
   "cell_type": "markdown",
   "metadata": {},
   "source": [
    "Now you are back in the PuTTY window. Click \"Open\""
   ]
  },
  {
   "cell_type": "markdown",
   "metadata": {},
   "source": [
    "You will get a security alert. Click \"Yes\""
   ]
  },
  {
   "cell_type": "markdown",
   "metadata": {},
   "source": [
    "You will be prompted to enter your password, type it in and then press enter. The cursor will not move while you are entering your password. You will see a bunch of stuff come up on your screen including something like \"Welcome to TSCC.\" Success! You are now ready for day 1. Get out of tscc by typeing: exit and then press enter."
   ]
  },
  {
   "cell_type": "markdown",
   "metadata": {},
   "source": [
    "Your terminal window will go away. Practice this a few times so you are ready to access TSCC on day 1."
   ]
  }
 ],
 "metadata": {
  "kernelspec": {
   "display_name": "Python 3",
   "language": "python",
   "name": "python3"
  },
  "language_info": {
   "codemirror_mode": {
    "name": "ipython",
    "version": 3
   },
   "file_extension": ".py",
   "mimetype": "text/x-python",
   "name": "python",
   "nbconvert_exporter": "python",
   "pygments_lexer": "ipython3",
   "version": "3.7.7"
  }
 },
 "nbformat": 4,
 "nbformat_minor": 2
}
