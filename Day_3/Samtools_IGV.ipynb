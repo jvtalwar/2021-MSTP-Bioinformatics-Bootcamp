{
 "cells": [
  {
   "cell_type": "markdown",
   "metadata": {},
   "source": [
    "## Sort and Index bam Files for Downstream Analyses; Visualizing Alignment with IGV"
   ]
  },
  {
   "attachments": {
    "image.png": {
     "image/png": "[encoded data removed]"
    }
   },
   "cell_type": "markdown",
   "metadata": {},
   "source": [
    "### Samtools\n",
    "![image.png](attachment:image.png)"
   ]
  },
  {
   "cell_type": "markdown",
   "metadata": {},
   "source": [
    "Our STAR alignment script should have generated a bunch of .sam (standing for sequence alignment map) files. These files are \"human-readable\" alignment files. However, this \"human-readable-ness\" comes at a huge space/memory cost. To save memory/space a compressed (non human-readable) version of these alignment files were generated - the .bam (and the .cram, but we will focus primarily on .bam). To begin we need to find a way to compress our .sam files to .bam files. Well how do we go about this?\n",
    "\n",
    "The answer is samtools! Check out the [samtools](http://www.htslib.org/doc/samtools.html) documentation. Since BAM files are binary, they can only be read by the computer. Samtools is a great tool that lets us view the contents of bamfiles and perform various manipulations on them."
   ]
  },
  {
   "cell_type": "markdown",
   "metadata": {},
   "source": [
    "Okay let's begin: Check that you have samtools installed. You can do this with either `which samtools` or `samtools --help`. If you don't install it according to the [installations](https://github.com/jvtalwar/2021-MSTP-Bioinformatics-Bootcamp/tree/master/Day_0_Setup/Installations) - section 4.3."
   ]
  },
  {
   "cell_type": "markdown",
   "metadata": {},
   "source": [
    "Assuming that you do have it installed let's review the basic usage. Simply, commands in samtools follow the below format:"
   ]
  },
  {
   "cell_type": "markdown",
   "metadata": {},
   "source": [
    "`samtools <command> [options]`"
   ]
  },
  {
   "cell_type": "markdown",
   "metadata": {},
   "source": [
    "Try out some of the samtools commands (using the .sam files you generated previously):"
   ]
  },
  {
   "cell_type": "markdown",
   "metadata": {},
   "source": [
    "`samtools view interesting_file.bam (or interesting_file.sam)`  - e.g., DMSO_1_ATCACGAligned.out.sam"
   ]
  },
  {
   "cell_type": "markdown",
   "metadata": {},
   "source": [
    "`samtools flagstat interesting_file.bam`"
   ]
  },
  {
   "cell_type": "markdown",
   "metadata": {},
   "source": [
    "If your machine shows error associated with No shared libraries:libbz2.so.1.0 it seems like you forgot to instal bzip2 in step 4.3 of [installations](https://github.com/jvtalwar/2021-MSTP-Bioinformatics-Bootcamp/tree/master/Day_0_Setup/Installations). To rectify this problem go ahead and install it with:"
   ]
  },
  {
   "cell_type": "markdown",
   "metadata": {},
   "source": [
    "`conda install -c conda-forge -c bioconda bzip2`"
   ]
  },
  {
   "cell_type": "markdown",
   "metadata": {},
   "source": [
    "Having tested samtools, and ensuring that things are working as expected, let's go ahead and use samtools to **sort and index our bam files**. Look at the documentation to figure out how you would sort a bam file and save it to a new file with the extension .sorted.bam\n"
   ]
  },
  {
   "cell_type": "markdown",
   "metadata": {},
   "source": [
    "`samtools sort -@ 8 -o interesting_file.sorted.bam interesting_file.bam`\n"
   ]
  },
  {
   "cell_type": "markdown",
   "metadata": {},
   "source": [
    "We also need a bai index of the sorted bam file. You can think of a .bai file as a table of contents for your .bam file. Like a textbook, if we want to read-up on certain topics, we would skim the table of contents to find where we need to jump to. A .bai file functions equivalently, allowing programs to look-up and jump across your .bam without having to read all the previous sequences (or in the textbook analogy - text). \n",
    "\n",
    "So again, let's take look at the documentation to determine how we go about generating one of these table of content (.bai) files:"
   ]
  },
  {
   "cell_type": "markdown",
   "metadata": {},
   "source": [
    "`samtools index interesting_file.sorted.bam`"
   ]
  },
  {
   "cell_type": "markdown",
   "metadata": {},
   "source": [
    "Now that you have figured out the commands, let's go ahead and put everything together in an automagical script. Notice the `-@ 8` flag above for sort?  The sorting takes 8 processors, so we need to submit a job requesting at least this amount of resources. Keep in mind that you can include two commands in the same script. Just put one below the other and your second one will run after the first one is finished (yes you can run things in parallel, and if we had a ton of time-intensive files, we certainly would do this, but for the sake of simplicity we are just going to focus on the iterative process for now).\n"
   ]
  },
  {
   "cell_type": "markdown",
   "metadata": {},
   "source": [
    "Okay script time: Sort and index your bam files. You can generate and run this file from your scripts folder. However don't forget you need to point to where your star_alignment mapping files are!"
   ]
  },
  {
   "cell_type": "markdown",
   "metadata": {},
   "source": [
    "`#!/bin/bash`<br>\n",
    "`#PBS -q hotel`<br>\n",
    "`#PBS -N TheSortingHat`<br>\n",
    "`#PBS -l nodes=1:ppn=8`<br> \n",
    "`#PBS -l walltime=2:30:00`<br>\n",
    "`#PBS -o sam_index_sort.out`<br>\n",
    "`#PBS -e sam_index_sort.err`<br>\n",
    "\n",
    "`cd ~/scratch/star_alignment`\n",
    "\n",
    "`for x in DMSO_1_ATCACGAligned.out DMSO_2_CGATGTAligned.out DTP_1_CAGATCAligned.out DTP_2_CCGTCCAligned.out DTP_3_GTGAAAAligned.out`<br>\n",
    "<br>\n",
    "`do`\n",
    "<br><br>\n",
    "`echo \"Beginning $x\"`<br><br>\n",
    "`samtools view -S -b $x.sam > $x.bam`\n",
    "<br>\n",
    "<br>\n",
    "`samtools sort -@ 8 -o $x.sorted.bam $x.bam`\n",
    "<br>\n",
    "<br>\n",
    "`samtools index $x.sorted.bam`\n",
    "<br>\n",
    "<br>\n",
    "`done`\n",
    "\n",
    "\n"
   ]
  },
  {
   "cell_type": "markdown",
   "metadata": {},
   "source": [
    "### Visualization Reads with IGV"
   ]
  },
  {
   "cell_type": "markdown",
   "metadata": {},
   "source": [
    "Check out the [IGV](http://software.broadinstitute.org/software/igv/) website. Go to Downloads page and follow the instructions based on your operating system. \n",
    " - **Note:** Using the web app version of IGV seems to fail, so we recommend downloading the Windows/Mac version and using that.\n"
   ]
  },
  {
   "cell_type": "markdown",
   "metadata": {},
   "source": [
    "In order to view alignments, you need to upload the bam files to an external server (not TSCC) for viewing. You can also download the bam and the indexed bai files to your desktop and load them from there. But since the files are big, I have uploaded them to an external server for you to view. I have uploaded 10 files in total, two for each condition (2 parental, 3 persister)."
   ]
  },
  {
   "cell_type": "markdown",
   "metadata": {},
   "source": [
    "**After IGV finishes installing, open IGV:**"
   ]
  },
  {
   "cell_type": "markdown",
   "metadata": {},
   "source": [
    "Select your genome with genome - load from server. Choose hg19."
   ]
  },
  {
   "cell_type": "markdown",
   "metadata": {},
   "source": [
    "Upload the bam files with - Select File - Load from URL<br>\n",
    "The URL links are:<br>\n",
    "<br>\n",
    "DMSO-1:<br>\n",
    "https://mstp-bootcamp-2020.s3-us-west-1.amazonaws.com/DMSO_1_ATCACGAligned.out.sorted.bam<br>\n",
    "https://mstp-bootcamp-2020.s3-us-west-1.amazonaws.com/DMSO_1_ATCACGAligned.out.sorted.bam.bai<br>\n",
    "<br>\n",
    "DMSO-2:<br>\n",
    "https://mstp-bootcamp-2020.s3-us-west-1.amazonaws.com/DMSO_2_CGATGTAligned.out.sorted.bam<br>\n",
    "https://mstp-bootcamp-2020.s3-us-west-1.amazonaws.com/DMSO_2_CGATGTAligned.out.sorted.bam.bai<br>\n",
    "<br>\n",
    "DTP-1:<br>\n",
    "https://mstp-bootcamp-2020.s3-us-west-1.amazonaws.com/DTP_1_CAGATCAligned.out.sorted.bam<br>\n",
    "https://mstp-bootcamp-2020.s3-us-west-1.amazonaws.com/DTP_1_CAGATCAligned.out.sorted.bam.bai<br>\n",
    "<br>\n",
    "DTP-2:<br>\n",
    "https://mstp-bootcamp-2020.s3-us-west-1.amazonaws.com/DTP_2_CCGTCCAligned.out.sorted.bam<br>\n",
    "https://mstp-bootcamp-2020.s3-us-west-1.amazonaws.com/DTP_2_CCGTCCAligned.out.sorted.bam.bai<br>\n",
    "<br>\n",
    "DTP-3:<br>\n",
    "https://mstp-bootcamp-2020.s3-us-west-1.amazonaws.com/DTP_3_GTGAAAAligned.out.sorted.bam<br>\n",
    "https://mstp-bootcamp-2020.s3-us-west-1.amazonaws.com/DTP_3_GTGAAAAligned.out.sorted.bam.bai<br>"
   ]
  },
  {
   "cell_type": "markdown",
   "metadata": {},
   "source": [
    "After you have uploaded all the files, IGV will likely ask you to zoom in before visualization. To start type TP53 in the search bar at the top and you should see the text replaced with the actual visualization."
   ]
  },
  {
   "cell_type": "markdown",
   "metadata": {},
   "source": [
    "Play around by viewing different genes or chromosome locations. Can you see genes that clearly have fewer reads in the parental vs persister datasets? What about differences in called variants at specific positions? We'll come back to gene analyses later on after running differential expression."
   ]
  },
  {
   "cell_type": "markdown",
   "metadata": {},
   "source": [
    "When you are ready to quit IGV, you can save the session with _File - Save session_. Next time you open IGV you can open your saved session without having to reload the BAM files."
   ]
  }
 ],
 "metadata": {
  "kernelspec": {
   "display_name": "Python 3",
   "language": "python",
   "name": "python3"
  },
  "language_info": {
   "codemirror_mode": {
    "name": "ipython",
    "version": 3
   },
   "file_extension": ".py",
   "mimetype": "text/x-python",
   "name": "python",
   "nbconvert_exporter": "python",
   "pygments_lexer": "ipython3",
   "version": "3.7.7"
  }
 },
 "nbformat": 4,
 "nbformat_minor": 2
}
