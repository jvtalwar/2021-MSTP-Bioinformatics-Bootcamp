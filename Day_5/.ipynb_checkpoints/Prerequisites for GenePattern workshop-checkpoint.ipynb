{
 "cells": [
  {
   "cell_type": "markdown",
   "metadata": {},
   "source": [
    "## Please complete the following before the Gene Pattern Workshop:"
   ]
  },
  {
   "cell_type": "markdown",
   "metadata": {},
   "source": [
    "### 1. Update Web Browser:\n",
    "\n",
    "A modern web browser (Google Chrome is recommended) is needed for today's analyses. You can go to https://browsehappy.com/ to get the latest version of your preferred browser if you yours is out of date."
   ]
  },
  {
   "cell_type": "markdown",
   "metadata": {},
   "source": [
    "### 2. Create a GenePattern Notebook Account:\n",
    "\n",
    "Go to https://notebook.genepattern.org/, and click **Use GenePattern Notebook** (in the top right corner). Next select **register account** (on the right). You will be prompted to enter a username and password. Please do not use special characters or spaces in your username. This registration will also automatically create an account for you on the GenePattern cloud server, https://cloud.genepattern.org."
   ]
  },
  {
   "cell_type": "markdown",
   "metadata": {},
   "source": [
    "### 3. Go Through the Tutorial:\n",
    "\n",
    "The 10-minute quickstart tutorial can be found at https://notebook.genepattern.org/quickstart/"
   ]
  }
 ],
 "metadata": {
  "kernelspec": {
   "display_name": "Python 3",
   "language": "python",
   "name": "python3"
  },
  "language_info": {
   "codemirror_mode": {
    "name": "ipython",
    "version": 3
   },
   "file_extension": ".py",
   "mimetype": "text/x-python",
   "name": "python",
   "nbconvert_exporter": "python",
   "pygments_lexer": "ipython3",
   "version": "3.7.7"
  }
 },
 "nbformat": 4,
 "nbformat_minor": 2
}
